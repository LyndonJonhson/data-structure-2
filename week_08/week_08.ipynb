{
  "nbformat": 4,
  "nbformat_minor": 0,
  "metadata": {
    "colab": {
      "provenance": []
    },
    "kernelspec": {
      "name": "python3",
      "display_name": "Python 3"
    },
    "language_info": {
      "name": "python"
    }
  },
  "cells": [
    {
      "cell_type": "markdown",
      "source": [
        "Student Identification\n",
        "\n",
        "\n",
        "*   Full Name 01: **Lyndon Jonhson Cabral Filho**\n",
        "\n"
      ],
      "metadata": {
        "id": "BsX_NSsxFs5k"
      }
    },
    {
      "cell_type": "markdown",
      "source": [
        "# Exercise Q&A (1,00 point for grade in Unit 02)"
      ],
      "metadata": {
        "id": "VI3assaFF_hK"
      }
    },
    {
      "cell_type": "markdown",
      "source": [
        "## Question 01"
      ],
      "metadata": {
        "id": "fE1LZH5LGFA2"
      }
    },
    {
      "cell_type": "markdown",
      "source": [
        "Consider a network with *N* nodes. Given a single link, what is the maximum number of nodes that link can connect? Given a single node, what is the maximum number of links that can connect to that node?"
      ],
      "metadata": {
        "id": "GPL6TaJGGJGG"
      }
    },
    {
      "cell_type": "markdown",
      "source": [
        "Answer: **Utilizando a fórmula $L=\\frac{N(N-1)}{2}$ para grafos não direcionados, se $L = 1$, temos que o número máximo de nós que o link consegue se conectar é 2. Ainda com a mesma fórmula, se $N = 1$, o número máximo de links é igual a 1 se a rede permitir que o nó se conecte a si mesmo, caso contrário não é possível ocorrer nenhuma conexão.**"
      ],
      "metadata": {
        "id": "__0WuEGWGOrv"
      }
    },
    {
      "cell_type": "markdown",
      "source": [
        "## Question 02"
      ],
      "metadata": {
        "id": "Me8GDnU7LnsQ"
      }
    },
    {
      "cell_type": "markdown",
      "source": [
        "<img width=600 src=\"https://drive.google.com/uc?export=view&id=1Y42-c3Pq1XoszEEvYsZFdr3GccAqp7l_\"> <br>\n",
        "<b>Figure 1</b>: Map of New York in 1880. From Report on the Social Statistics of Cities, Compiled by George E. Waring, Jr., U.S. Census Office, 1886. Image courtesy of University of Texas Libraries. <br><br>\n",
        "Consider the road map in Figure 1. The grid-like structure of this network means that most nodes have the same degree. What is the most common degree for nodes in this network?"
      ],
      "metadata": {
        "id": "EAFcrHf7MGJI"
      }
    },
    {
      "cell_type": "markdown",
      "source": [
        "Answer: **Como ele tem uma aparência parecida com uma grade, seu grau é 4, pois apresenta conexões acima, abaixo, esquerda e direita.**"
      ],
      "metadata": {
        "id": "2sFTB55QNBbw"
      }
    },
    {
      "cell_type": "markdown",
      "source": [
        "## Question 03"
      ],
      "metadata": {
        "id": "YM21bAojPliT"
      }
    },
    {
      "cell_type": "markdown",
      "source": [
        "Consider the road map in Figure 1. Manhattan has a lot of one-way streets. This implies that a good network model of traffic flow would probably have directed links. Consider a subgraph of this network with grid-like connectivity and all one-way streets (i.e. each node is a four-way intersection of two one-way streets). What is the most common in-degree of nodes in this subgraph? What is the most common out-degree?"
      ],
      "metadata": {
        "id": "tGQTievuPyxA"
      }
    },
    {
      "cell_type": "markdown",
      "source": [
        "Answer: **k-in = 2 e k-out = 2**"
      ],
      "metadata": {
        "id": "VuwrARsMP6co"
      }
    },
    {
      "cell_type": "markdown",
      "source": [
        "## Question 04"
      ],
      "metadata": {
        "id": "_2_euhnQSBMh"
      }
    },
    {
      "cell_type": "markdown",
      "source": [
        "What network quantity can we use to represent the volume of traffic between each pair of adjacent intersections in the Manhattan road map (Figure 1)?"
      ],
      "metadata": {
        "id": "xBEDhxizSUCS"
      }
    },
    {
      "cell_type": "markdown",
      "source": [
        "Answer: **A melhor forma de representar o volume de tráfico é utilizando os pesos nos links, quanto maior o peso maior seria o tráfego naquele local.**"
      ],
      "metadata": {
        "id": "Y5B6moIySXJx"
      }
    },
    {
      "cell_type": "markdown",
      "source": [
        "## Question 5"
      ],
      "metadata": {
        "id": "2tJpDjZBTNmw"
      }
    },
    {
      "cell_type": "markdown",
      "source": [
        "Consider a directed network of N nodes. Now consider the total in-degree (i.e. the sum of the in-degree over all nodes in the network). Compare this to the analogous total out-degree. Which of the following must hold true for any such network?\n",
        "1. Total in-degree must be less than total out-degree\n",
        "2. Total in-degree must be greater than total out-degree\n",
        "3. Total in-degree must be equal to total out-degree\n",
        "4. None of these hold true in all instances"
      ],
      "metadata": {
        "id": "TsZ7QfNlTRLY"
      }
    },
    {
      "cell_type": "markdown",
      "source": [
        "Answer: **Alternativa 4**"
      ],
      "metadata": {
        "id": "BhVj2LrgTdkI"
      }
    },
    {
      "cell_type": "markdown",
      "source": [
        "## Question 6"
      ],
      "metadata": {
        "id": "aKwAE2IpU3_I"
      }
    },
    {
      "cell_type": "markdown",
      "source": [
        "Consider a Twitter retweet network, where users are nodes and we want to show how many times a given user has retweeted another user. What link type best captures this relation?\n",
        "1.   Undirected, unweighted\n",
        "2.   Undirected, weighted\n",
        "3.   Directed, unweighted\n",
        "4.   Directed, weighted"
      ],
      "metadata": {
        "id": "oGVOQV5wU8pR"
      }
    },
    {
      "cell_type": "markdown",
      "source": [
        "Answer: **Alternativa 4**"
      ],
      "metadata": {
        "id": "dhtNcC_tVd5x"
      }
    },
    {
      "cell_type": "markdown",
      "source": [
        "## Question 7"
      ],
      "metadata": {
        "id": "0PToLgqlVhKx"
      }
    },
    {
      "cell_type": "markdown",
      "source": [
        "Consider a hashtag co-occurrence graph from Twitter. In this network, hashtags are the nodes, and a link between two hashtags indicates how often those two hashtags appear in tweets together. What link type would best capture this relation?\n",
        "1.   Undirected, unweighted\n",
        "2.   Undirected, weighted\n",
        "3.   Directed, unweighted\n",
        "4.   Directed, weighted"
      ],
      "metadata": {
        "id": "eDu_FeRtVksB"
      }
    },
    {
      "cell_type": "markdown",
      "source": [
        "Answer: **Alternativa 2**"
      ],
      "metadata": {
        "id": "an_OplEXV0op"
      }
    },
    {
      "cell_type": "markdown",
      "source": [
        "## Question 8"
      ],
      "metadata": {
        "id": "MXR4dd0KXSCR"
      }
    },
    {
      "cell_type": "markdown",
      "source": [
        "Consider a network created from characters in a story or play. The nodes are people, and a link exists between two nodes if those characters ever engage in dialogue. Which type of edge could represent this relation? Justify your answer.\n",
        "1.   Undirected, unweighted\n",
        "2.   Undirected, weighted\n",
        "3.   Directed, unweighted\n",
        "4.   Directed, weighted"
      ],
      "metadata": {
        "id": "ZobHLZCIXW5i"
      }
    },
    {
      "cell_type": "markdown",
      "source": [
        "Answer: **Alternativa 1, pois um diálogo ocorre entre duas pessoas e não importa o direcionamento, e sim que elas dialogaram, e também não importa a quantidade de vezes que elas dialogaram, com isso não necessitando acrescentar pesos.**"
      ],
      "metadata": {
        "id": "bnK2XP0cXlWy"
      }
    },
    {
      "cell_type": "markdown",
      "source": [
        "## Question 9"
      ],
      "metadata": {
        "id": "j8gfRD9DYq55"
      }
    },
    {
      "cell_type": "markdown",
      "source": [
        "Suppose we want to make a more complex version of a dialog network that captures how much each character speaks and to whom. What type of link would best represent this relation?\n",
        "1.   Undirected, unweighted\n",
        "2.   Undirected, weighted\n",
        "3.   Directed, unweighted\n",
        "4.   Directed, weighted"
      ],
      "metadata": {
        "id": "BQeIQUERYvRh"
      }
    },
    {
      "cell_type": "markdown",
      "source": [
        "Answer: **Alternativa 4**"
      ],
      "metadata": {
        "id": "slnDWsgdY5Np"
      }
    },
    {
      "cell_type": "markdown",
      "source": [
        "## Question 10"
      ],
      "metadata": {
        "id": "O7VCBnmdZFNQ"
      }
    },
    {
      "cell_type": "markdown",
      "source": [
        "Imagine that your social network has a subnetwork where you and 24 of your friends (25 people total) are all friends with each other. What is such a subnetwork called? And how many links are contained in the subnetwork?"
      ],
      "metadata": {
        "id": "zBt8ypSjZK-R"
      }
    },
    {
      "cell_type": "markdown",
      "source": [
        "Answer: **Este tipo de rede é chamado de rede completa. Utilizando a fórmula $L=\\frac{N(N-1)}{2}$, temos que para $N = 25$ a quantidade de links é igual a $300$.**"
      ],
      "metadata": {
        "id": "pGpWHn1-ZOOi"
      }
    },
    {
      "cell_type": "markdown",
      "source": [
        "## Question 11"
      ],
      "metadata": {
        "id": "siOy3_ByamtZ"
      }
    },
    {
      "cell_type": "markdown",
      "source": [
        "Consider an undirected network with N nodes. What is the maximum number of links this network can have?"
      ],
      "metadata": {
        "id": "AtDcL7PwbKvS"
      }
    },
    {
      "cell_type": "markdown",
      "source": [
        "Answer: **$L=\\frac{N(N-1)}{2}$**"
      ],
      "metadata": {
        "id": "IycB8S0zbOXS"
      }
    },
    {
      "cell_type": "markdown",
      "source": [
        "## Question 12"
      ],
      "metadata": {
        "id": "tov3rmY9bdwp"
      }
    },
    {
      "cell_type": "markdown",
      "source": [
        "Consider a bipartite network of N nodes, $N_1$ nodes of type 1 and $N_2$ nodes of type 2 (so that $N_1 + N_2 = N$). What is the maximum number of links in this network?"
      ],
      "metadata": {
        "id": "1gTS0O8Ad_0R"
      }
    },
    {
      "cell_type": "markdown",
      "source": [
        "Answer: **$L_{max} = N_1$ x $N_2$**"
      ],
      "metadata": {
        "id": "vCU4OmvReDCC"
      }
    },
    {
      "cell_type": "markdown",
      "source": [
        "## Question 13"
      ],
      "metadata": {
        "id": "dRrAKUDkiJNa"
      }
    },
    {
      "cell_type": "markdown",
      "source": [
        "Given a complete network A with N nodes, and a bipartite network B also with N nodes, which of the following holds true for any $N > 2$:\n",
        "1.   Network A has more links than network B\n",
        "2.   Network A has the same number of links as network B\n",
        "3.   Network A has fewer links than network B\n",
        "4.   None of these hold true for all such $N > 2$"
      ],
      "metadata": {
        "id": "ct5C1U54iiSR"
      }
    },
    {
      "cell_type": "markdown",
      "source": [
        "Answer: **Alternativa 1**"
      ],
      "metadata": {
        "id": "-O2csewJir6C"
      }
    },
    {
      "cell_type": "markdown",
      "source": [
        "## Question 14"
      ],
      "metadata": {
        "id": "OIthCFXojLSR"
      }
    },
    {
      "cell_type": "markdown",
      "source": [
        "Consider this adjacency matrix: <br>\n",
        "\n",
        "<img width=\"300\" src=\"https://drive.google.com/uc?export=view&id=1e4ANqX_kJCPhnVizvbK-ToBJgrZJpVde\"> <br>\n",
        "\n",
        "An entry in the ith row and jth column indicates the weight of the link from node i to node j. For instance, the entry in the second row and third column is 2, meaning the weight of the link from node B to node C is 2. What kind of network does this matrix represent?\n",
        "1.   Undirected, unweighted\n",
        "2.   Undirected, weighted\n",
        "3.   Directed, unweighted\n",
        "4.   Directed, weighted"
      ],
      "metadata": {
        "id": "SYN8IJjHjOAp"
      }
    },
    {
      "cell_type": "markdown",
      "source": [
        "Answer: **Alternativa 4**"
      ],
      "metadata": {
        "id": "KNYpSe5hjv5C"
      }
    },
    {
      "cell_type": "markdown",
      "source": [
        "## Question 15"
      ],
      "metadata": {
        "id": "OnEsIz-pkAXK"
      }
    },
    {
      "cell_type": "markdown",
      "source": [
        "We have seen that Facebook’s network is incredibly sparse. Assume it has approximately 1 billion users, each with 1000 friends on average.\n",
        "1. Suppose Facebook releases its annual report and it shows that while the number of users in the network has stayed the same, the average number of friends per user has increased. Would this imply that the network density increased, decreased, or stayed the same?\n",
        "2. Suppose instead that both the number of users and the average number of friends per user doubled. Would this imply the network density increased, decreased, or stayed the same?"
      ],
      "metadata": {
        "id": "kXtDlO4fkDK6"
      }
    },
    {
      "cell_type": "markdown",
      "source": [
        "Answer: **Com o aumento do número de conexões, a densidade aumentaria. Se duplicar o número de usuários e o de conexões a densidade diminuiria.**"
      ],
      "metadata": {
        "id": "2DLIH86dkKk7"
      }
    },
    {
      "cell_type": "markdown",
      "source": [
        "## Question 16"
      ],
      "metadata": {
        "id": "KyMW5U3MkUsC"
      }
    },
    {
      "cell_type": "markdown",
      "source": [
        "Netflix keeps data on customer preferences using a big bipartite network connecting users to titles. Suppose that from 2021 to 2022 Netflix’s library has remained the same size, while the number of users has increased. Further suppose that the average user’s degree in this network has remained constant. Has the density of this network increased, decreased, or stayed the same?"
      ],
      "metadata": {
        "id": "dcsUW4omkVpa"
      }
    },
    {
      "cell_type": "markdown",
      "source": [
        "Answer: **Permaneceu a mesma.**"
      ],
      "metadata": {
        "id": "-IqlYhrZkYh6"
      }
    },
    {
      "cell_type": "markdown",
      "source": [
        "# Exercise - Hands On (1,00 point for grade in Unit 02)"
      ],
      "metadata": {
        "id": "iePov0U2xN0D"
      }
    },
    {
      "cell_type": "markdown",
      "source": [
        "Implementing all hands on using [NetworkX](https://networkx.org/)."
      ],
      "metadata": {
        "id": "K_2rDiYKxRZr"
      }
    },
    {
      "cell_type": "markdown",
      "source": [
        "## Hands On 01"
      ],
      "metadata": {
        "id": "MHB1TQgJxV-0"
      }
    },
    {
      "cell_type": "markdown",
      "source": [
        "Often in the context of trees, a node with degree 1 is called a *leaf*. Write a function named `get_leaves` that takes a graph as an argument, loops through the nodes, and returns a list of nodes with degree 1."
      ],
      "metadata": {
        "id": "hKbY5_18xZkb"
      }
    },
    {
      "cell_type": "code",
      "source": [
        "import networkx as nx"
      ],
      "metadata": {
        "id": "MNFkDElOytSL"
      },
      "execution_count": 6,
      "outputs": []
    },
    {
      "cell_type": "code",
      "source": [
        "def get_leaves(G):\n",
        "    leaves = []\n",
        "    for node in G:\n",
        "        if len(G[node]) == 1:\n",
        "            leaves.append(node)\n",
        "    return leaves"
      ],
      "metadata": {
        "id": "qkyTmm6dx7K3"
      },
      "execution_count": 7,
      "outputs": []
    },
    {
      "cell_type": "code",
      "source": [
        "# this block of code is only for networkx adapt it for graph-tool\n",
        "G = nx.Graph()\n",
        "G.add_edges_from([\n",
        "        ('a', 'b'),\n",
        "        ('a', 'd'),\n",
        "        ('c', 'd'),\n",
        "    ])\n",
        "assert set(get_leaves(G)) == {'c', 'b'}\n",
        "     "
      ],
      "metadata": {
        "id": "qjabkA6ux9MD"
      },
      "execution_count": 8,
      "outputs": []
    },
    {
      "cell_type": "markdown",
      "source": [
        "## Hands On 02"
      ],
      "metadata": {
        "id": "syYYTLgLy1vN"
      }
    },
    {
      "cell_type": "markdown",
      "source": [
        "Write a function max_degree that takes a graph as its argument, and returns a 2-tuple with the name and degree of the node with highest degree."
      ],
      "metadata": {
        "id": "qIUBm7dly5L7"
      }
    },
    {
      "cell_type": "code",
      "source": [
        "def max_degree(G):\n",
        "    max_degree = 0\n",
        "    max_node = None\n",
        "\n",
        "    for node in G:\n",
        "        degree = len(G[node])\n",
        "\n",
        "        if degree > max_degree:\n",
        "            max_degree = degree\n",
        "            max_node = node\n",
        "\n",
        "    return max_node, max_degree"
      ],
      "metadata": {
        "id": "IJzk2Cu3y1Mk"
      },
      "execution_count": 9,
      "outputs": []
    },
    {
      "cell_type": "code",
      "source": [
        "import gdown\n",
        "\n",
        "url = 'https://drive.google.com/uc?id=14AMuGDPHac7FOOr7Stw2Jh-l-IWb7n8D'\n",
        "output = 'friends.adjlist'\n",
        "gdown.download(url, output, quiet=False)"
      ],
      "metadata": {
        "colab": {
          "base_uri": "https://localhost:8080/",
          "height": 105
        },
        "id": "fEc1Q7X9y_KF",
        "outputId": "aa269fe0-3100-4e25-8d98-44c758e731ae"
      },
      "execution_count": 10,
      "outputs": [
        {
          "output_type": "stream",
          "name": "stderr",
          "text": [
            "Downloading...\n",
            "From: https://drive.google.com/uc?id=14AMuGDPHac7FOOr7Stw2Jh-l-IWb7n8D\n",
            "To: /content/friends.adjlist\n",
            "100%|██████████| 109/109 [00:00<00:00, 282kB/s]\n"
          ]
        },
        {
          "output_type": "execute_result",
          "data": {
            "text/plain": [
              "'friends.adjlist'"
            ],
            "application/vnd.google.colaboratory.intrinsic+json": {
              "type": "string"
            }
          },
          "metadata": {},
          "execution_count": 10
        }
      ]
    },
    {
      "cell_type": "code",
      "source": [
        "# this block of code is only for networkx adapt it for graph-tool\n",
        "SG = nx.read_adjlist('friends.adjlist')\n",
        "assert max_degree(SG) == ('Claire', 4)"
      ],
      "metadata": {
        "id": "bF4kKbl_zAzL"
      },
      "execution_count": 11,
      "outputs": []
    },
    {
      "cell_type": "markdown",
      "source": [
        "## Hands on 03"
      ],
      "metadata": {
        "id": "fZ-uq3ov08jb"
      }
    },
    {
      "cell_type": "markdown",
      "source": [
        "Write a function `mutual_friends` that takes a graph and two nodes as arguments, and returns a list (or set) of nodes that are linked to both given nodes. For example, in the graph `SG` drawn above, <BR><BR>\n",
        "\n",
        "&nbsp;&nbsp;&nbsp;&nbsp; mutual_friends(SG, 'Alice', 'Claire') == ['Frank'] <BR><BR>\n",
        "\n",
        "an empty list or set should be returned in the case where two nodes have no mutual friends, e.g. George and Bob in `SG` drawn above."
      ],
      "metadata": {
        "id": "OQb78e2t09Kr"
      }
    },
    {
      "cell_type": "code",
      "source": [
        "\n",
        "def mutual_friends(G, node_1, node_2):\n",
        "    if not G.has_node(node_1) or not G.has_node(node_2):\n",
        "        return []  \n",
        "\n",
        "    neighbors1 = set(G.neighbors(node_1))\n",
        "    neighbors2 = set(G.neighbors(node_2))\n",
        "\n",
        "    mutual = neighbors1.intersection(neighbors2)\n",
        "    return list(mutual)"
      ],
      "metadata": {
        "id": "Y0o010mQ1pGo"
      },
      "execution_count": 16,
      "outputs": []
    },
    {
      "cell_type": "code",
      "source": [
        "# this block of code is only for networkx adapt it for graph-tool\n",
        "SG = nx.read_adjlist('friends.adjlist')\n",
        "assert mutual_friends(SG, 'Alice', 'Claire') == ['Frank']\n",
        "assert mutual_friends(SG, 'George', 'Bob') == []\n",
        "assert sorted(mutual_friends(SG, 'Claire', 'George')) == ['Dennis', 'Frank']"
      ],
      "metadata": {
        "id": "OCb9bXWs1z8L"
      },
      "execution_count": 17,
      "outputs": []
    }
  ]
}